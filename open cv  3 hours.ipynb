{
 "cells": [
  {
   "cell_type": "markdown",
   "metadata": {},
   "source": [
    "# open, save, visulize image using open CV"
   ]
  },
  {
   "cell_type": "code",
   "execution_count": 1,
   "metadata": {},
   "outputs": [],
   "source": [
    "import cv2"
   ]
  },
  {
   "cell_type": "code",
   "execution_count": 3,
   "metadata": {},
   "outputs": [],
   "source": [
    "import cv2\n",
    "\n",
    "# Path to the image file\n",
    "image_path = r'C:\\Users\\Jamshaid\\Downloads\\data analyst.png'\n",
    "\n",
    "# Read the image\n",
    "img = cv2.imread(image_path)\n",
    "# save the image\n",
    "\n",
    "cv2.imwrite(image_path, img)\n",
    "# Visualize the image\n",
    "cv2.imshow('image', img)\n",
    "cv2.waitKey(0)\n",
    "cv2.destroyAllWindows()\n"
   ]
  },
  {
   "cell_type": "markdown",
   "metadata": {},
   "source": [
    "#  open, save, visulize video using open CV"
   ]
  },
  {
   "cell_type": "code",
   "execution_count": 22,
   "metadata": {},
   "outputs": [],
   "source": [
    "import cv2\n",
    "\n",
    "# Path to the video file\n",
    "video_path = r'D:\\data analyst videos\\Detailed Roadmap for Machine Learning _ Free Study Resources _ Simply Explained(480P).mp4'\n",
    "\n",
    "# Create a VideoCapture object\n",
    "video = cv2.VideoCapture(video_path)\n",
    "\n",
    "# Loop to read and display frames\n",
    "while True:\n",
    "    ret, frame = video.read()\n",
    "\n",
    "    if ret:\n",
    "        cv2.imshow('frame', frame)\n",
    "        # Wait for a key press with a delay of 40 milliseconds\n",
    "        key = cv2.waitKey(40)\n",
    "        \n",
    "        # Check if any key is pressed\n",
    "        if key != -1:\n",
    "            break\n",
    "    else:\n",
    "        break\n",
    "\n",
    "    # Add a small delay to display the frame\n",
    "    cv2.waitKey(1)\n",
    "\n",
    "# Release the video capture object and close all windows\n",
    "video.release()\n",
    "cv2.destroyAllWindows()\n"
   ]
  },
  {
   "cell_type": "markdown",
   "metadata": {},
   "source": [
    "# using WEB cam"
   ]
  },
  {
   "cell_type": "code",
   "execution_count": 25,
   "metadata": {},
   "outputs": [],
   "source": [
    "#read webcam \n",
    "webcam = cv2.VideoCapture(0)\n",
    "\n",
    "# visulize webcam \n",
    "\n",
    "while True:\n",
    "    ret, frame = webcam.read()\n",
    "\n",
    "    cv2.imshow('frame', frame)\n",
    "    if cv2.waitKey(40) & 0xFF == ord('q'):\n",
    "       break\n",
    "\n",
    "webcam.release()\n",
    "cv2.destroyAllWindows()"
   ]
  },
  {
   "cell_type": "markdown",
   "metadata": {},
   "source": [
    "# Resizing an image and crop an image"
   ]
  },
  {
   "cell_type": "code",
   "execution_count": 7,
   "metadata": {},
   "outputs": [
    {
     "name": "stdout",
     "output_type": "stream",
     "text": [
      "(924, 1640, 3)\n",
      "(300, 300, 3)\n"
     ]
    }
   ],
   "source": [
    "import cv2\n",
    "\n",
    "# Path to the image file\n",
    "image_path = r'C:\\Users\\Jamshaid\\Downloads\\data analyst.png'\n",
    "\n",
    "# Read the image\n",
    "img = cv2.imread(image_path)\n",
    "\n",
    "resize_image = cv2.resize(img,(300,300))\n",
    "\n",
    "print(img.shape)\n",
    "print(resize_image.shape)\n",
    "\n",
    "cv2.imshow('image',img)\n",
    "cv2.imshow('resized_image', resize_image)\n",
    "cv2.waitKey(0)\n",
    "cv2.destroyAllWindows()"
   ]
  },
  {
   "cell_type": "markdown",
   "metadata": {},
   "source": [
    "# CROP images"
   ]
  },
  {
   "cell_type": "code",
   "execution_count": 16,
   "metadata": {},
   "outputs": [
    {
     "name": "stdout",
     "output_type": "stream",
     "text": [
      "(924, 1640, 3)\n",
      "(300, 200, 3)\n"
     ]
    }
   ],
   "source": [
    "import cv2\n",
    "\n",
    "# Path to the image file\n",
    "image_path = r'C:\\Users\\Jamshaid\\Downloads\\data analyst.png'\n",
    "\n",
    "# Read the image\n",
    "img = cv2.imread(image_path)\n",
    "\n",
    "cv2.imshow('image', img)\n",
    "\n",
    "crop_image = img[320:620, 420:620]\n",
    "\n",
    "print(img.shape)\n",
    "print(crop_image.shape)\n",
    "\n",
    "cv2.imshow('image',img)\n",
    "cv2.imshow('crop_image', crop_image)\n",
    "\n",
    "\n",
    "cv2.waitKey(0)\n",
    "cv2.destroyAllWindows()"
   ]
  },
  {
   "cell_type": "markdown",
   "metadata": {},
   "source": [
    "# change the image color"
   ]
  },
  {
   "cell_type": "code",
   "execution_count": 32,
   "metadata": {},
   "outputs": [],
   "source": [
    "import cv2\n",
    "image_path = r'D:\\Vs code\\Open CV\\parrot.jpg'\n",
    "\n",
    "# Read the image\n",
    "img = cv2.imread(image_path)\n",
    "resize_image = cv2.resize(img,(500,500))\n",
    "\n",
    "image_rgb = cv2.cvtColor(resize_image,cv2.COLOR_RGB2BGR)\n",
    "image_gray = cv2.cvtColor(resize_image,cv2.COLOR_RGB2GRAY)\n",
    "image_hsv = cv2.cvtColor(resize_image,cv2.COLOR_RGB2HSV)\n",
    "\n",
    "\n",
    "\n",
    "\n",
    "\n",
    "cv2.imshow('image',resize_image)\n",
    "cv2.imshow('RGB_image',image_rgb)\n",
    "cv2.imshow('gray_image',image_gray)\n",
    "cv2.imshow('hsv_image',image_hsv)\n",
    "\n",
    "\n",
    "\n",
    "cv2.waitKey(0)\n",
    "cv2.destroyAllWindows()"
   ]
  },
  {
   "cell_type": "markdown",
   "metadata": {},
   "source": [
    "# BLUERING the Image"
   ]
  },
  {
   "cell_type": "code",
   "execution_count": 44,
   "metadata": {},
   "outputs": [],
   "source": [
    "import cv2\n",
    "image_path = r'D:\\Vs code\\Open CV\\parrot.jpg'\n",
    "\n",
    "# Read the image\n",
    "img = cv2.imread(image_path)\n",
    "resize_image = cv2.resize(img,(500,500))\n",
    "ksize = 71\n",
    "blur_image = cv2.blur(resize_image, (ksize, ksize))\n",
    "gaussion_blur = cv2.GaussianBlur(resize_image,(ksize,ksize),4)\n",
    "median_blur = cv2.medianBlur(resize_image,(ksize))\n",
    "cv2.imshow('original image ',resize_image)\n",
    "cv2.imshow('blur_image',blur_image)\n",
    "cv2.imshow('gaussian_blur', gaussion_blur)\n",
    "cv2.imshow('median blur', median_blur) # best one to remove the noice from the picture\n",
    "\n",
    "\n",
    "\n",
    "cv2.waitKey(0)\n",
    "cv2.destroyAllWindows()"
   ]
  },
  {
   "cell_type": "markdown",
   "metadata": {},
   "source": [
    "# Threshold \n",
    "Thresholding of an image is a technique used to separate objects from the background based on pixel intensity values."
   ]
  },
  {
   "cell_type": "code",
   "execution_count": 52,
   "metadata": {},
   "outputs": [],
   "source": [
    "import cv2\n",
    "image_path = r'D:\\Vs code\\Open CV\\cycle.jpg'\n",
    "\n",
    "# Read the image\n",
    "img = cv2.imread(image_path)\n",
    "resize_image = cv2.resize(img,(300,300))\n",
    "image_gray = cv2.cvtColor(resize_image,cv2.COLOR_RGB2GRAY)\n",
    "\n",
    "ret, thresh = cv2.threshold(image_gray, 80,225, cv2.THRESH_BINARY)\n",
    "\n",
    "# improve the pixcels quality by adding somw blur\n",
    "\n",
    "thresh = cv2.blur(thresh,(2,2))\n",
    "ret, thresh = cv2.threshold(thresh, 80,225, cv2.THRESH_BINARY)\n",
    "\n",
    "\n",
    "\n",
    "cv2.imshow('orginal_image', resize_image) \n",
    "cv2.imshow('thresh_image', thresh) \n",
    "\n",
    "\n",
    "\n",
    "\n",
    "cv2.waitKey(0)\n",
    "cv2.destroyAllWindows()"
   ]
  },
  {
   "cell_type": "code",
   "execution_count": 63,
   "metadata": {},
   "outputs": [],
   "source": [
    "import cv2\n",
    "image_path = r'D:\\Vs code\\Open CV\\handwritting.jpg'\n",
    "\n",
    "# Read the image\n",
    "img = cv2.imread(image_path)\n",
    "orginal_image = cv2.resize(img,(500,500))\n",
    "\n",
    "\n",
    "\n",
    "image_gray = cv2.cvtColor(orginal_image,cv2.COLOR_RGB2GRAY)\n",
    "\n",
    "ret, thresh = cv2.threshold(image_gray, 50,225, cv2.THRESH_BINARY)\n",
    "\n",
    "cv2.imshow('orginal_image', orginal_image) \n",
    "cv2.imshow('thresh_image', thresh) \n",
    "cv2.waitKey(0)\n",
    "cv2.destroyAllWindows()"
   ]
  },
  {
   "cell_type": "markdown",
   "metadata": {},
   "source": [
    "# automatic thresh "
   ]
  },
  {
   "cell_type": "code",
   "execution_count": 66,
   "metadata": {},
   "outputs": [],
   "source": [
    "import cv2\n",
    "image_path = r'D:\\Vs code\\Open CV\\handwritting.jpg'\n",
    "\n",
    "# Read the image\n",
    "img = cv2.imread(image_path)\n",
    "orginal_image = cv2.resize(img,(500,500))\n",
    "\n",
    "\n",
    "\n",
    "image_gray = cv2.cvtColor(orginal_image,cv2.COLOR_RGB2GRAY)\n",
    "\n",
    "thresh = cv2.adaptiveThreshold(image_gray,255,cv2.ADAPTIVE_THRESH_GAUSSIAN_C, cv2.THRESH_BINARY, 21,30)\n",
    "\n",
    "ret, NORMAL_thresh = cv2.threshold(image_gray, 100,225, cv2.THRESH_BINARY)\n",
    "\n",
    "\n",
    "cv2.imshow('orginal_image', orginal_image) \n",
    "cv2.imshow('thresh_image', thresh) \n",
    "cv2.imshow('NORMAL_thresh', NORMAL_thresh) \n",
    "\n",
    "cv2.waitKey(0)\n",
    "cv2.destroyAllWindows()"
   ]
  },
  {
   "cell_type": "markdown",
   "metadata": {},
   "source": [
    "## Edge detection"
   ]
  },
  {
   "cell_type": "code",
   "execution_count": 73,
   "metadata": {},
   "outputs": [],
   "source": [
    "import cv2\n",
    "import numpy as np\n",
    "image_path = r'D:\\Vs code\\Open CV\\cycle.jpg'\n",
    "\n",
    "# Read the image\n",
    "img = cv2.imread(image_path)\n",
    "orginal_image = cv2.resize(img,(300,300))\n",
    "\n",
    "image_edge = cv2.Canny(orginal_image, 200,300)\n",
    "image_edge_d = cv2.dilate(image_edge, np.ones((3,3),dtype = np.int8))\n",
    "image_edge_e = cv2.erode(image_edge_d, np.ones((3,3),dtype = np.int8))\n",
    "\n",
    "\n",
    "\n",
    "cv2.imshow('pic_edges', image_edge) \n",
    "cv2.imshow('orginal_image', orginal_image)\n",
    "cv2.imshow('dilate_image',image_edge_d)\n",
    "cv2.imshow('erode_image',image_edge_e)\n",
    "\n",
    "\n",
    "\n",
    "cv2.waitKey(0)\n",
    "cv2.destroyAllWindows()"
   ]
  },
  {
   "cell_type": "markdown",
   "metadata": {},
   "source": [
    "# Drawing on image\n",
    "line,rectangle,circle,text"
   ]
  },
  {
   "cell_type": "code",
   "execution_count": 7,
   "metadata": {},
   "outputs": [
    {
     "name": "stdout",
     "output_type": "stream",
     "text": [
      "(500, 500, 3)\n"
     ]
    }
   ],
   "source": [
    "import cv2\n",
    "\n",
    "\n",
    "image_path =r'D:\\Vs code\\Open CV\\whiteboard.png'\n",
    "img = cv2.imread(image_path)\n",
    "orginal_image = cv2.resize(img,(500,500))\n",
    "\n",
    "#line\n",
    "cv2.line(orginal_image,(50,100), (200,300), (0,255,0),10)\n",
    "\n",
    "# rectangle \n",
    "\n",
    "cv2.rectangle(orginal_image,(100,200),(300,400),(0,0,255),10)\n",
    "\n",
    "#circle\n",
    "cv2.circle(orginal_image,(150,200), 150, (255,0,0), 20)\n",
    "\n",
    "# text  on a image\n",
    "cv2.putText(orginal_image,'hello world', (100,200),cv2.FONT_HERSHEY_COMPLEX, 2,(255,0,0),10)\n",
    "\n",
    "\n",
    "cv2.imshow('line_image',orginal_image)\n",
    "#cv2.imshow('line_image',orginal_image)\n",
    "print(orginal_image.shape)\n",
    "\n",
    "\n",
    "\n",
    "cv2.waitKey(0)\n",
    "cv2.destroyAllWindows()\n"
   ]
  },
  {
   "cell_type": "markdown",
   "metadata": {},
   "source": [
    "## Contours\n",
    "Contours refer to the outlines or boundaries of shapes or figures in an image or a visual representation."
   ]
  },
  {
   "cell_type": "code",
   "execution_count": 7,
   "metadata": {},
   "outputs": [
    {
     "data": {
      "text/plain": [
       "99"
      ]
     },
     "execution_count": 7,
     "metadata": {},
     "output_type": "execute_result"
    },
    {
     "ename": "",
     "evalue": "",
     "output_type": "error",
     "traceback": [
      "\u001b[1;31mThe Kernel crashed while executing code in the current cell or a previous cell. \n",
      "\u001b[1;31mPlease review the code in the cell(s) to identify a possible cause of the failure. \n",
      "\u001b[1;31mClick <a href='https://aka.ms/vscodeJupyterKernelCrash'>here</a> for more info. \n",
      "\u001b[1;31mView Jupyter <a href='command:jupyter.viewOutput'>log</a> for further details."
     ]
    }
   ],
   "source": [
    "import cv2\n",
    "\n",
    "\n",
    "image_path =r'D:\\Vs code\\Open CV\\birds.jpg'\n",
    "img = cv2.imread(image_path)\n",
    "#orginal_image = cv2.resize(img,(500,500))\n",
    "\n",
    "# convert orginal image into gray\n",
    "img_gray = cv2.cvtColor(img, cv2.COLOR_BGR2GRAY)\n",
    "\n",
    "# create tresh on gray image\n",
    "ret, thresh = cv2.threshold(img_gray, 127, 255, cv2.THRESH_BINARY_INV)\n",
    "\n",
    "# find contours\n",
    "contours, hierarchy = cv2.findContours(thresh, cv2.RETR_TREE, cv2.CHAIN_APPROX_SIMPLE)\n",
    "\n",
    "for cnt in contours:\n",
    "    if cv2.contourArea(cnt) > 200:\n",
    "         #cv2.drawContours(img, cnt, -1, (0, 255, 0), 10)\n",
    "         x1, y1, w, h = cv2.boundingRect(cnt)\n",
    "\n",
    "         cv2.rectangle(img, (x1, y1), (x1 + w, y1 + h), (0, 255, 0), 2)\n",
    "\n",
    "\n",
    "\n",
    "\n",
    "\n",
    "cv2.imshow('img', img)\n",
    "cv2.imshow('thresh', thresh)\n",
    "cv2.waitKey(0)"
   ]
  }
 ],
 "metadata": {
  "kernelspec": {
   "display_name": "Python 3",
   "language": "python",
   "name": "python3"
  },
  "language_info": {
   "codemirror_mode": {
    "name": "ipython",
    "version": 3
   },
   "file_extension": ".py",
   "mimetype": "text/x-python",
   "name": "python",
   "nbconvert_exporter": "python",
   "pygments_lexer": "ipython3",
   "version": "3.11.5"
  }
 },
 "nbformat": 4,
 "nbformat_minor": 2
}
